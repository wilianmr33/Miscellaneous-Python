{
 "cells": [
  {
   "cell_type": "code",
   "execution_count": null,
   "metadata": {},
   "outputs": [],
   "source": [
    "import os, shutil\n",

    "def make_archive(source, destination):\n",
    "        base = os.path.basename(destination)\n",
    "        name = base.split('.')[0]\n",
    "        format = base.split('.')[1]\n",
    "        archive_from = os.path.dirname(source)\n",
    "        archive_to = os.path.basename(source.strip(os.sep))\n",
    "        shutil.make_archive(name, format, archive_from, archive_to)\n",
    "        shutil.move('%s.%s'%(name,format), destination)\n",
    "\n",
    "make_archive('/*/Treinamento_Segmenter.zip')"
   ]
  }
 ],
 "metadata": {
  "kernelspec": {
   "display_name": "Python 3",
   "language": "python",
   "name": "python3"
  },
  "language_info": {
   "codemirror_mode": {
    "name": "ipython",
    "version": 3
   },
   "file_extension": ".py",
   "mimetype": "text/x-python",
   "name": "python",
   "nbconvert_exporter": "python",
   "pygments_lexer": "ipython3",
   "version": "3.8.5"
  }
 },
 "nbformat": 4,
 "nbformat_minor": 4
}
